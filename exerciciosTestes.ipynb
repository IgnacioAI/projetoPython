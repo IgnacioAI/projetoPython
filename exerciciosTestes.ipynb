{
 "metadata": {
  "language_info": {
   "codemirror_mode": {
    "name": "ipython",
    "version": 3
   },
   "file_extension": ".py",
   "mimetype": "text/x-python",
   "name": "python",
   "nbconvert_exporter": "python",
   "pygments_lexer": "ipython3",
   "version": "3.8.3-final"
  },
  "orig_nbformat": 2,
  "kernelspec": {
   "name": "Python 3.8.3 64-bit",
   "display_name": "Python 3.8.3 64-bit",
   "metadata": {
    "interpreter": {
     "hash": "2db524e06e9f5f4ffedc911c917cb75e12dbc923643829bf417064a77eb14d37"
    }
   }
  }
 },
 "nbformat": 4,
 "nbformat_minor": 2,
 "cells": [
  {
   "cell_type": "code",
   "execution_count": null,
   "metadata": {
    "tags": []
   },
   "outputs": [],
   "source": [
    "idades = {'Tulio': 30,'Maria': 28,'Anderson': 35,'Arthur': 10}\n",
    "pessoa = input('Quero saber a idade de : ')\n",
    "idade = idades.get(pessoa)\n",
    "\n",
    "if idade:\n",
    "    print(f'{pessoa} tem {idade} anos de idade.')\n",
    "else:\n",
    "    print(f'{pessoa} tem idade desconhcida.')"
   ]
  },
  {
   "cell_type": "code",
   "execution_count": null,
   "metadata": {
    "tags": []
   },
   "outputs": [],
   "source": [
    "idades = {'Tulio': 30,'Maria': 28,'Anderson': 35,'Arthur': 10}\n",
    "pessoa = input('Quero saber a idade de : ')\n",
    "idade = idades.get(pessoa)\n",
    "try:\n",
    "    print(f'{pessoa} tem {idades[pessoa]} anos de idade.')\n",
    "except KeyError:\n",
    "    print(f'{pessoa} com idade desconhecida')\n",
    "    "
   ]
  },
  {
   "cell_type": "code",
   "execution_count": null,
   "metadata": {
    "tags": []
   },
   "outputs": [],
   "source": [
    "#exemplo de adivinhação com exceções\n",
    "try:\n",
    "    numerador = int(input('Entre com o numerador: '))\n",
    "except ValueError: #captura apenass exceções do tipo ValueErrors\n",
    "    print('Você não entrou com número inteiro')\n",
    "    exit(0)\n",
    "\n",
    "try:\n",
    "    denominador = int(input('Entre com o denominador: '))\n",
    "except: #lida com qualquer tipo de erro\n",
    "    print('Você não entrou com número inteiro')\n",
    "    exit(0)\n",
    "\n",
    "try:\n",
    "    if numerador % denominador == 0:\n",
    "        print('O numerador é divisível pelo denominador')\n",
    "    else:\n",
    "        print('A divisão não é inteira.')\n",
    "except ZeroDivisionError: #captura divisãoes por erro 0\n",
    "        print('Denominador não pode ser zero')"
   ]
  },
  {
   "cell_type": "code",
   "execution_count": null,
   "metadata": {
    "tags": []
   },
   "outputs": [],
   "source": [
    "for i in range(9):\n",
    "    print(i)\n"
   ]
  },
  {
   "cell_type": "code",
   "execution_count": null,
   "metadata": {
    "tags": []
   },
   "outputs": [],
   "source": [
    "for i in range(1,15,2): #(inicio,parada, incremento)\n",
    "    print(i)"
   ]
  },
  {
   "cell_type": "code",
   "execution_count": null,
   "metadata": {
    "tags": []
   },
   "outputs": [],
   "source": [
    "string = (input('Entre com uma palavra: '))\n",
    "for caracter in range(len(string) -1,-1,-1):\n",
    "    print(string[caracter])\n",
    "print('-- FIM --')"
   ]
  },
  {
   "cell_type": "code",
   "execution_count": null,
   "metadata": {
    "tags": []
   },
   "outputs": [],
   "source": [
    "#realizando o print de cada uma das palavras utiizando o metodo spli()\n",
    "eFrase = (input('Entre com o poema: '))\n",
    "for palavras in eFrase.split():\n",
    "    print(palavras)\n",
    "print('-- FIM --')"
   ]
  },
  {
   "cell_type": "code",
   "execution_count": null,
   "metadata": {
    "tags": []
   },
   "outputs": [],
   "source": [
    "lista_Compras = ['arroz','batata','cebola','alho','feijão','carne-moida']\n",
    "eWish = str(input('Entre com o item desejado: '))\n",
    "if eWish not in lista_Compras:\n",
    "    print('{} não consta na lista de compras.'.format(eWish)\n",
    "    else:\n",
    "        print('Não esuqeça de comprar {}'.format(eWish))"
   ]
  },
  {
   "cell_type": "code",
   "execution_count": null,
   "metadata": {
    "tags": []
   },
   "outputs": [],
   "source": [
    "#conatndo a quantidade de elementos inteiros que existem numa lista\n",
    "string_inteiros = input('Entre com uma lista de numeros: ')\n",
    "lista_inteiros = string_inteiros.split()\n",
    "contador = 0\n",
    "for inteiro in lista_inteiros:\n",
    "    contador=contador + 1\n",
    "print('Existem %.d inteiros na lista' % contador)"
   ]
  },
  {
   "cell_type": "code",
   "execution_count": null,
   "metadata": {
    "tags": []
   },
   "outputs": [],
   "source": [
    "#calculando o fatorial\n",
    "n = int(input('Entre com o valor'))\n",
    "fatorial = 1\n",
    "for i in range(1,n + 1):\n",
    "    fatorial = fatorial * i\n",
    "print(str(n)+ '! = ', fatorial)"
   ]
  },
  {
   "cell_type": "code",
   "execution_count": 14,
   "metadata": {
    "tags": []
   },
   "outputs": [
    {
     "output_type": "stream",
     "name": "stdout",
     "text": "Esta é a 1 vez que no entro no loop\nEsta é a 2 vez que no entro no loop\nEsta é a 3 vez que no entro no loop\nEsta é a 4 vez que no entro no loop\nEsta é a 5 vez que no entro no loop\nEsta é a 6 vez que no entro no loop\nEsta é a 7 vez que no entro no loop\nEsta é a 8 vez que no entro no loop\nEsta é a 9 vez que no entro no loop\nEsta é a 10 vez que no entro no loop\n"
    }
   ],
   "source": [
    "# acumuladores e a condição de parada\n",
    "condicao = 10\n",
    "soma = 1\n",
    "while soma <= condicao:\n",
    "    print('Esta é a {} vez que no entro no loop'.format(soma))\n",
    "    soma = soma + 1"
   ]
  },
  {
   "cell_type": "code",
   "execution_count": 20,
   "metadata": {
    "tags": []
   },
   "outputs": [
    {
     "output_type": "stream",
     "name": "stdout",
     "text": "// Comandos Git //\n\n\n\ngit init // cria repositorio\n\ngit config user.name &quot;nomeUsuario&quot; // define nome de usuaio\n\ngit config user.email &quot;emailUsuario&quot; // define o e-mail\n\ngit remote add origin http://... // aponta o repositorio remoto\n\ngit add . // adiciona todas as modificaÃ§Ãµes\n"
    }
   ],
   "source": [
    "import files\n",
    "\n",
    "eArquivo = input('Acesse o arquivo')\n",
    "arquivo = open(\"CMD GIT.txt\",\"r\")\n",
    "for linhas in arquivo:\n",
    "    print(linhas)\n",
    "arquivo.close()"
   ]
  },
  {
   "cell_type": "code",
   "execution_count": 21,
   "metadata": {},
   "outputs": [
    {
     "output_type": "error",
     "ename": "AttributeError",
     "evalue": "module &#39;files&#39; has no attribute &#39;upload&#39;",
     "traceback": [
      "\u001b[1;31m---------------------------------------------------------------------------\u001b[0m",
      "\u001b[1;31mAttributeError\u001b[0m                            Traceback (most recent call last)",
      "\u001b[1;32m&lt;ipython-input-21-7f4ee8c6a740&gt;\u001b[0m in \u001b[0;36m&lt;module&gt;\u001b[1;34m\u001b[0m\n\u001b[0;32m      1\u001b[0m \u001b[1;32mimport\u001b[0m \u001b[0mfiles\u001b[0m\u001b[1;33m\u001b[0m\u001b[1;33m\u001b[0m\u001b[0m\n\u001b[1;32m----&gt; 2\u001b[1;33m \u001b[0muploaded\u001b[0m \u001b[1;33m=\u001b[0m \u001b[0mfiles\u001b[0m\u001b[1;33m.\u001b[0m\u001b[0mupload\u001b[0m\u001b[1;33m(\u001b[0m\u001b[1;33m)\u001b[0m\u001b[1;33m\u001b[0m\u001b[1;33m\u001b[0m\u001b[0m\n\u001b[0m",
      "\u001b[1;31mAttributeError\u001b[0m: module &#39;files&#39; has no attribute &#39;upload&#39;"
     ]
    }
   ],
   "source": [
    "import files \n",
    "uploaded = files.upload()"
   ]
  },
  {
   "cell_type": "code",
   "execution_count": 4,
   "metadata": {},
   "outputs": [],
   "source": [
    "def inverte_string(valor_string):\n",
    "    resultado = \" \"\n",
    "    for caracter in valor_string:\n",
    "        resultado = caracter + resultado\n",
    "    return resultado"
   ]
  },
  {
   "cell_type": "code",
   "execution_count": 5,
   "metadata": {
    "tags": []
   },
   "outputs": [
    {
     "output_type": "stream",
     "name": "stdout",
     "text": "O inverso de  Alexandre  é  erdnaxelA \n"
    }
   ],
   "source": [
    "# utilizando a função definida\n",
    "\n",
    "string = input('Entre com alguma string: ')\n",
    "while string.strip() != \"\":\n",
    "    print('O inverso de ',string,\" é \",inverte_string(string))\n",
    "    string = input('Entre com outra string ou tecle ENTER para sair: ')"
   ]
  },
  {
   "cell_type": "code",
   "execution_count": 8,
   "metadata": {
    "tags": []
   },
   "outputs": [
    {
     "output_type": "stream",
     "name": "stdout",
     "text": "10 É divisivel por 5\n"
    }
   ],
   "source": [
    "# verificando a divisibilidade\n",
    "def verifica_divisibilidade(x,y):\n",
    "   return x % y == 0\n",
    "\n",
    "x = int(input('Entre com o valor: '))\n",
    "y = int(input('Entre com outro valor: '))\n",
    "if verifica_divisibilidade(x,y):\n",
    "    print(x,'É divisivel por',y)\n",
    "else:\n",
    "    print(x,'Não é divisivel por',y)"
   ]
  },
  {
   "cell_type": "code",
   "execution_count": 9,
   "metadata": {
    "tags": []
   },
   "outputs": [
    {
     "output_type": "stream",
     "name": "stdout",
     "text": "[5, 10, 15, 20, 25]\n"
    }
   ],
   "source": [
    "# construindo um programa que através de uma lista , encontre valores divisiveis\n",
    "\n",
    "eValores = input('Entre com uma sequencia de valores: ')\n",
    "lista_Valores = []\n",
    "for x in eValores.split():\n",
    "    lista_Valores.append(int(x))\n",
    "print(lista_Valores)\n",
    "\n",
    "# criando escopo do programa\n",
    "# verifica_divisibilidade_top_down(lista_Valores)\n",
    "\n"
   ]
  },
  {
   "cell_type": "code",
   "execution_count": null,
   "metadata": {},
   "outputs": [],
   "source": [
    "# construção por bottom-up\n",
    "\n",
    "def verifica_divisibilidade(x,y)\n",
    "    return int(y) % int(x) == 0"
   ]
  },
  {
   "cell_type": "code",
   "execution_count": 12,
   "metadata": {},
   "outputs": [],
   "source": [
    "# em um modelo bottom-up\n",
    "#função que retorna os valores divisiveis de x\n",
    "\n",
    "def elementos_divisiveis(x,lista):\n",
    "    resultado = []\n",
    "\n",
    "    for elemento in lista:\n",
    "        if verifica_divisibilidade(elemento,x):\n",
    "            resultado.append(elemento)\n",
    "    return resultado"
   ]
  },
  {
   "cell_type": "code",
   "execution_count": 11,
   "metadata": {},
   "outputs": [],
   "source": [
    "# função que recebe os valores e retorna quem são os divisores\n",
    "\n",
    "def divisores_lista(lista):\n",
    "    for elemento in lista:\n",
    "        print(elemento, \"é divisivel por \", end=\" \")\n",
    "        elememtos = elementos_divisiveis(elemento,lista)\n",
    "        for f in elememtos:\n",
    "            print(f,end=\" \")\n",
    "        print()"
   ]
  },
  {
   "cell_type": "code",
   "execution_count": 13,
   "metadata": {
    "tags": []
   },
   "outputs": [
    {
     "output_type": "stream",
     "name": "stdout",
     "text": "5 é divisivel por  5 10 \n10 é divisivel por  10 \n12 é divisivel por  12 \n6 é divisivel por  12 6 \n"
    }
   ],
   "source": [
    "eValores = input('Entre com uma sequencia de valores: ')\n",
    "lista_Valores = []\n",
    "for x in eValores.split():\n",
    "    lista_Valores.append(int(x))\n",
    "divisores_lista(lista_Valores)"
   ]
  },
  {
   "cell_type": "code",
   "execution_count": 14,
   "metadata": {
    "tags": []
   },
   "outputs": [
    {
     "output_type": "stream",
     "name": "stdout",
     "text": "3628800\n"
    }
   ],
   "source": [
    "# funções recursivas\n",
    "def fatorial(n):\n",
    "    if n == 0:\n",
    "        return 1\n",
    "    return n*fatorial(n - 1)\n",
    "print(fatorial(10))\n"
   ]
  },
  {
   "cell_type": "code",
   "execution_count": null,
   "metadata": {},
   "outputs": [],
   "source": []
  }
 ]
}