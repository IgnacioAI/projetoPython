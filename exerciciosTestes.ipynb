{
 "metadata": {
  "language_info": {
   "codemirror_mode": {
    "name": "ipython",
    "version": 3
   },
   "file_extension": ".py",
   "mimetype": "text/x-python",
   "name": "python",
   "nbconvert_exporter": "python",
   "pygments_lexer": "ipython3",
   "version": "3.8.3-final"
  },
  "orig_nbformat": 2,
  "kernelspec": {
   "name": "Python 3.8.3 64-bit",
   "display_name": "Python 3.8.3 64-bit",
   "metadata": {
    "interpreter": {
     "hash": "2db524e06e9f5f4ffedc911c917cb75e12dbc923643829bf417064a77eb14d37"
    }
   }
  }
 },
 "nbformat": 4,
 "nbformat_minor": 2,
 "cells": [
  {
   "cell_type": "code",
   "execution_count": 2,
   "metadata": {
    "tags": []
   },
   "outputs": [
    {
     "output_type": "stream",
     "name": "stdout",
     "text": "Alexandre tem idade desconhcida.\n"
    }
   ],
   "source": [
    "idades = {'Tulio': 30,'Maria': 28,'Anderson': 35,'Arthur': 10}\n",
    "pessoa = input('Quero saber a idade de : ')\n",
    "idade = idades.get(pessoa)\n",
    "\n",
    "if idade:\n",
    "    print(f'{pessoa} tem {idade} anos de idade.')\n",
    "else:\n",
    "    print(f'{pessoa} tem idade desconhcida.')"
   ]
  },
  {
   "cell_type": "code",
   "execution_count": 5,
   "metadata": {
    "tags": []
   },
   "outputs": [
    {
     "output_type": "stream",
     "name": "stdout",
     "text": "André com idade desconhecida\n"
    }
   ],
   "source": [
    "idades = {'Tulio': 30,'Maria': 28,'Anderson': 35,'Arthur': 10}\n",
    "pessoa = input('Quero saber a idade de : ')\n",
    "idade = idades.get(pessoa)\n",
    "try:\n",
    "    print(f'{pessoa} tem {idades[pessoa]} anos de idade.')\n",
    "except KeyError:\n",
    "    print(f'{pessoa} com idade desconhecida')\n",
    "    "
   ]
  },
  {
   "cell_type": "code",
   "execution_count": 11,
   "metadata": {
    "tags": []
   },
   "outputs": [
    {
     "output_type": "stream",
     "name": "stdout",
     "text": "O numerador é divisível pelo denominador\n"
    }
   ],
   "source": [
    "#exemplo de adivinhação com exceções\n",
    "try:\n",
    "    numerador = int(input('Entre com o numerador: '))\n",
    "except ValueError: #captura apenass exceções do tipo ValueErrors\n",
    "    print('Você não entrou com número inteiro')\n",
    "    exit(0)\n",
    "\n",
    "try:\n",
    "    denominador = int(input('Entre com o denominador: '))\n",
    "except: #lida com qualquer tipo de erro\n",
    "    print('Você não entrou com número inteiro')\n",
    "    exit(0)\n",
    "\n",
    "try:\n",
    "    if numerador % denominador == 0:\n",
    "        print('O numerador é divisível pelo denominador')\n",
    "    else:\n",
    "        print('A divisão não é inteira.')\n",
    "except ZeroDivisionError: #captura divisãoes por erro 0\n",
    "        print('Denominador não pode ser zero')"
   ]
  },
  {
   "cell_type": "code",
   "execution_count": null,
   "metadata": {},
   "outputs": [],
   "source": []
  }
 ]
}