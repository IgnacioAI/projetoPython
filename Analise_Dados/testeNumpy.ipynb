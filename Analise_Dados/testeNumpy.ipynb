{
 "metadata": {
  "language_info": {
   "codemirror_mode": {
    "name": "ipython",
    "version": 3
   },
   "file_extension": ".py",
   "mimetype": "text/x-python",
   "name": "python",
   "nbconvert_exporter": "python",
   "pygments_lexer": "ipython3",
   "version": "3.8.3-final"
  },
  "orig_nbformat": 2,
  "kernelspec": {
   "name": "Python 3.8.3 64-bit",
   "display_name": "Python 3.8.3 64-bit",
   "metadata": {
    "interpreter": {
     "hash": "2db524e06e9f5f4ffedc911c917cb75e12dbc923643829bf417064a77eb14d37"
    }
   }
  }
 },
 "nbformat": 4,
 "nbformat_minor": 2,
 "cells": [
  {
   "cell_type": "code",
   "execution_count": null,
   "metadata": {},
   "outputs": [],
   "source": [
    "import numpy as np"
   ]
  },
  {
   "cell_type": "code",
   "execution_count": null,
   "metadata": {},
   "outputs": [],
   "source": [
    "#array contendo 0´s , metodo para 1´s = np.ones()\n",
    "eLista = (3,3)\n",
    "x =np.zeros(eLista)\n",
    "print('x:\\n',x)\n",
    "print('shape:',x.shape)"
   ]
  },
  {
   "cell_type": "code",
   "execution_count": null,
   "metadata": {},
   "outputs": [],
   "source": [
    "#criação de pontos linearmente espaçados função mp.linspace()\n",
    "x_min, x_max = 5,15\n",
    "x = np.linspace(start=x_min,stop=x_max,num=6)\n",
    "print('x:',x)\n",
    "print('shape:',x.shape)"
   ]
  },
  {
   "cell_type": "code",
   "execution_count": null,
   "metadata": {},
   "outputs": [],
   "source": [
    "#criação de matriz identidade\n",
    "eMatriz = 4\n",
    "x = np.eye(eMatriz)\n",
    "print('x:\\n',x)\n",
    "print('shape:',x.shape)"
   ]
  },
  {
   "cell_type": "code",
   "execution_count": null,
   "metadata": {},
   "outputs": [],
   "source": [
    "#criação de valores aletorios np.random.seed\n",
    "eRandom = np.random.random(size=(2,3))\n",
    "print('eRandom:\\n',eRandom)\n",
    "print('shape:', eRandom.shape)"
   ]
  },
  {
   "cell_type": "code",
   "execution_count": null,
   "metadata": {},
   "outputs": [],
   "source": [
    "#trabalhando com indexação\n",
    "eArray = np.linspace(10,100,10)\n",
    "print('eArray:',eArray)\n",
    "print('shape:',eArray.shape)"
   ]
  },
  {
   "cell_type": "code",
   "execution_count": null,
   "metadata": {},
   "outputs": [],
   "source": [
    "eArray = eArray.reshape(2,5)\n",
    "print('eArray:\\n',eArray)"
   ]
  },
  {
   "cell_type": "code",
   "execution_count": null,
   "metadata": {},
   "outputs": [],
   "source": [
    "x = np.ones((2,2))\n",
    "y = np.eye(2)\n",
    "print('x:\\n',x)\n",
    "print('y:\\n',y)"
   ]
  },
  {
   "cell_type": "code",
   "execution_count": null,
   "metadata": {},
   "outputs": [],
   "source": [
    "#executando operações aritmeticas e brodcasting\n",
    "print('A soma dos arrays:\\n', x+y)\n",
    "print('A subtração dos arrays:\\n', x-y)\n",
    "print('A multiplicação dos arrays:\\n', x*y)\n",
    "print('A divisão dos arrays:\\n', x/y)\n",
    "print('Somando os elementos:\\n', x + 3)\n",
    "print('Multiplicando os elementos:\\n', x*2)\n",
    "print('Dividindo os elementos:\\n', x/2)"
   ]
  },
  {
   "cell_type": "code",
   "execution_count": null,
   "metadata": {},
   "outputs": [],
   "source": [
    "#customizando arrays\n",
    "12 * np.eye(4)"
   ]
  },
  {
   "cell_type": "code",
   "execution_count": null,
   "metadata": {},
   "outputs": [],
   "source": [
    "12 * np.ones((10,10))"
   ]
  },
  {
   "cell_type": "code",
   "execution_count": null,
   "metadata": {},
   "outputs": [],
   "source": [
    "#matricial\n",
    "print('Matricial:\\n', x@y)"
   ]
  },
  {
   "cell_type": "code",
   "execution_count": null,
   "metadata": {},
   "outputs": [],
   "source": [
    "#Solução de um sistema de equações:\n",
    "# a + 2*b = 7\n",
    "# 3a - 2b = -11\n",
    "# solução analitica: (a,b)= (-1,4)\n",
    "#Matricialmente este problema tem a seguinte forma:\n",
    "# Ax = c, onde :\n",
    "# x = [(a,b)]\n",
    "# A = [(1,2),(3,-2)]\n",
    "# c = [(7,-11)]\n",
    "# solução analitica x = inv(A) @ c\n",
    "\n",
    "A = np.array([[1,2],[3,-2]])\n",
    "C = np.array([[7],[-11]])\n",
    "print('A:\\n', A)\n",
    "print('C:\\n', C)"
   ]
  },
  {
   "cell_type": "code",
   "execution_count": null,
   "metadata": {},
   "outputs": [],
   "source": [
    "#solução\n",
    "# x = np.dot(np.linalg.inv(a),C)\n",
    "x = np.linalg.inv(A)@C\n",
    "print('(a,b):',x.ravel())"
   ]
  },
  {
   "cell_type": "code",
   "execution_count": null,
   "metadata": {},
   "outputs": [],
   "source": [
    "x = np.array([[1,2],[3,4]])\n",
    "y = np.array([1.5 , 3.5])\n",
    "print('x:\\n', x)\n",
    "print('y:\\n', y)"
   ]
  },
  {
   "cell_type": "code",
   "execution_count": null,
   "metadata": {},
   "outputs": [],
   "source": [
    "#comparações ponto a ponto\n",
    "print('A comparação de um array escalar (>): \\n', x > 2)\n",
    "print('A comparação de um array escalar (>=): \\n', x >= 2)\n",
    "print('A comparação de um array escalar (<): \\n', x < 2)\n",
    "print('A comparação de um array escalar (<=): \\n', x <= 2)\n",
    "print('Comparação entre arrays (==): \\n', x == x )\n",
    "print('Comparação entre arrays (>): \\n', x > x)\n",
    "print('Comparação entre arrays (>): \\n', x>y)"
   ]
  },
  {
   "cell_type": "code",
   "execution_count": null,
   "metadata": {},
   "outputs": [],
   "source": [
    "#indexação boobleana\n",
    "x =np.array([[1,3,7],[4,11,21],[47,8,9]])\n",
    "print('x: \\n', x)"
   ]
  },
  {
   "cell_type": "code",
   "execution_count": null,
   "metadata": {},
   "outputs": [],
   "source": [
    "#retornar numero de elemetos\n",
    "k = 10\n",
    "cond = x > k\n",
    "print('condição: \\n', cond)\n",
    "print(f'Os elementos maiores que {k}: \\n',x[cond])\n",
    "print(f'Os numeros de elementos maiores que {k}: ', len(x[cond]))"
   ]
  },
  {
   "cell_type": "code",
   "execution_count": null,
   "metadata": {},
   "outputs": [],
   "source": [
    "#extração de valores pares\n",
    "cond = x % 2 == 0\n",
    "print('condição: \\n', cond)\n",
    "print('números pares: ',x[cond])"
   ]
  },
  {
   "cell_type": "code",
   "execution_count": null,
   "metadata": {},
   "outputs": [],
   "source": [
    "# utilizar o metodo reshape() numa matriz array, deve obedecer o quantidade de elementos dentro dela\n",
    "# observe que tranformar uma matriz numa unica coluna ou numa unica linha é simples mas deve obedecer a regra de proporção\n",
    "print('transformada num vetor em linha: \\n', x.reshape(1,9))\n",
    "print('transformada num vetor em coluna: \\n', x.reshape(9,1))"
   ]
  },
  {
   "cell_type": "code",
   "execution_count": null,
   "metadata": {},
   "outputs": [],
   "source": [
    "#transposição de matriz - transformando o que é coluna em liha e vice versa\n",
    "\n",
    "print('x:\\n', x.T)"
   ]
  },
  {
   "cell_type": "code",
   "execution_count": null,
   "metadata": {},
   "outputs": [],
   "source": [
    "# A soma em dado eixo, axis 0 para linha ou axis 1 para coluna\n",
    "print('Somando o eixo da coluna: ', np.sum(x,axis=1))\n",
    "print('Somando o eixo da linha: ', np.sum(x,axis=0))"
   ]
  },
  {
   "cell_type": "code",
   "execution_count": null,
   "metadata": {},
   "outputs": [],
   "source": [
    "# A media utilizando o metodo mean()\n",
    "print('A média de x ao longo das linhas:', np.mean(x,axis=0))\n",
    "print('A média de x ao longo das colunas:', np.mean(x,axis=1))"
   ]
  },
  {
   "cell_type": "code",
   "execution_count": null,
   "metadata": {},
   "outputs": [],
   "source": [
    "# np.where, indentificação dos indices onde uma dada condição é atendida. Uso conjunto de indexação é booleana\n",
    "\n",
    "cond = x % 2 == 0\n",
    "print('condição: \\n', cond)\n",
    "i,j = np.where(cond)\n",
    "print('indice i (linhas):',i)\n",
    "print('indice j (colunas):',j)"
   ]
  },
  {
   "cell_type": "code",
   "execution_count": null,
   "metadata": {},
   "outputs": [],
   "source": [
    "#indexação booleana e slicing, selecionar as linhas de x que possuam algum numero par\n",
    "print('x:\\n',x)\n",
    "cond = x % 2 == 0 \n",
    "print('condição: \\n', cond)\n",
    "#se houver alguma condição True na linha a som asera > 0\n",
    "i_row = np.where(np.sum(cond, axis=1))[0]\n",
    "print('indice das linhass que possuem numeros pares:', i_row)\n",
    "print('linhas que possuem numeros pares; \\n', x[i_row, :])"
   ]
  },
  {
   "cell_type": "code",
   "execution_count": null,
   "metadata": {},
   "outputs": [],
   "source": []
  }
 ]
}