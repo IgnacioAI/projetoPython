{
 "metadata": {
  "language_info": {
   "codemirror_mode": {
    "name": "ipython",
    "version": 3
   },
   "file_extension": ".py",
   "mimetype": "text/x-python",
   "name": "python",
   "nbconvert_exporter": "python",
   "pygments_lexer": "ipython3",
   "version": "3.8.3-final"
  },
  "orig_nbformat": 2,
  "kernelspec": {
   "name": "Python 3.8.3 64-bit",
   "display_name": "Python 3.8.3 64-bit",
   "metadata": {
    "interpreter": {
     "hash": "2db524e06e9f5f4ffedc911c917cb75e12dbc923643829bf417064a77eb14d37"
    }
   }
  }
 },
 "nbformat": 4,
 "nbformat_minor": 2,
 "cells": [
  {
   "cell_type": "code",
   "execution_count": null,
   "metadata": {},
   "outputs": [],
   "source": [
    "import pandas as pd"
   ]
  },
  {
   "cell_type": "code",
   "execution_count": null,
   "metadata": {},
   "outputs": [],
   "source": [
    "#leitura de dados\n",
    "#ficar esperto com as barras invertidas no direcionamento do path - é padrão Linux -\n",
    "df = pd.read_csv(\"C:/Users/Forasteiro/Desktop/Python_Estudos/Python_Bootcamp/projetoPython/Analise_Dados/temperature.csv\")\n",
    "df"
   ]
  },
  {
   "cell_type": "code",
   "execution_count": null,
   "metadata": {},
   "outputs": [],
   "source": [
    "excel_file = pd.ExcelFile(\"C:/Users/Forasteiro/Desktop/Python_Estudos/Python_Bootcamp/projetoPython/Analise_Dados/temperature.xlsx\")\n",
    "type(excel_file)"
   ]
  },
  {
   "cell_type": "code",
   "execution_count": null,
   "metadata": {},
   "outputs": [],
   "source": [
    "#leitura de arquivo vindo do excel, o separador por já está \".\" na primeira aba\n",
    "df2 = pd.read_excel(excel_file,sheet_name='Sheet1')\n",
    "df2"
   ]
  },
  {
   "cell_type": "code",
   "execution_count": null,
   "metadata": {},
   "outputs": [],
   "source": [
    "#leitura de arquivo vindo do excel, o separador está em \",\" na segunda aba\n",
    "df3 = pd.read_excel(excel_file, sheet_name='Sheet2')\n",
    "\n",
    "df3['temperatura'] = df3['temperatura'].str.replace(',', '.').astype('float')\n",
    "\n",
    "df3"
   ]
  },
  {
   "cell_type": "code",
   "execution_count": null,
   "metadata": {},
   "outputs": [],
   "source": []
  }
 ]
}